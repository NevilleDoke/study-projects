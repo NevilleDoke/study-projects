{
 "cells": [
  {
   "cell_type": "code",
   "execution_count": 8,
   "metadata": {},
   "outputs": [],
   "source": [
    "# PIG-LATIN +if word starts with a vowel, add 'ay' to the end, otherwise put the first letter at the end then add 'ay'\n",
    "# example ~ word = ordway, ~apple = appleay\n",
    "\n",
    "def pig_latin(word):\n",
    "    first_letter = word[0]\n",
    "    \n",
    "    #CHECK IF VOWEL\n",
    "    if first_letter in 'aeiou':\n",
    "        pig_latin_word = word + 'ay'\n",
    "    else:\n",
    "        pig_latin_word = word[1:] + first_letter + 'ay'\n",
    "        \n",
    "    return pig_latin_word"
   ]
  },
  {
   "cell_type": "code",
   "execution_count": 13,
   "metadata": {},
   "outputs": [
    {
     "data": {
      "text/plain": [
       "'arcay'"
      ]
     },
     "execution_count": 13,
     "metadata": {},
     "output_type": "execute_result"
    }
   ],
   "source": [
    "pig_latin('car')"
   ]
  },
  {
   "cell_type": "code",
   "execution_count": 15,
   "metadata": {},
   "outputs": [
    {
     "name": "stdout",
     "output_type": "stream",
     "text": [
      "input word to convert dog has gone\n"
     ]
    },
    {
     "data": {
      "text/plain": [
       "'og has goneday'"
      ]
     },
     "execution_count": 15,
     "metadata": {},
     "output_type": "execute_result"
    }
   ],
   "source": [
    "# PIG-LATIN +if word starts with a vowel, add 'ay' to the end, otherwise put the first letter at the end then add 'ay'\n",
    "# example ~ word = ordway, ~apple = appleay\n",
    "\n",
    "def pig_latin(word):\n",
    "    first_letter = word[0]\n",
    "    \n",
    "    #CHECK IF VOWEL\n",
    "    if first_letter in 'aeiou':\n",
    "        pig_latin_word = word + 'ay'\n",
    "    else:\n",
    "        pig_latin_word = word[1:] + first_letter + 'ay'\n",
    "        \n",
    "    return pig_latin_word\n",
    "\n",
    "\n",
    "pig_latin(input('input word to convert '))"
   ]
  },
  {
   "cell_type": "code",
   "execution_count": null,
   "metadata": {},
   "outputs": [],
   "source": []
  }
 ],
 "metadata": {
  "kernelspec": {
   "display_name": "Python 3",
   "language": "python",
   "name": "python3"
  },
  "language_info": {
   "codemirror_mode": {
    "name": "ipython",
    "version": 3
   },
   "file_extension": ".py",
   "mimetype": "text/x-python",
   "name": "python",
   "nbconvert_exporter": "python",
   "pygments_lexer": "ipython3",
   "version": "3.7.3"
  }
 },
 "nbformat": 4,
 "nbformat_minor": 2
}
